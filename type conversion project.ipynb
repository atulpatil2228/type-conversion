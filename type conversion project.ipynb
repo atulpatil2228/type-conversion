{
 "cells": [
  {
   "cell_type": "code",
   "execution_count": null,
   "id": "2710d029-7046-42b6-8d81-22502d0c6716",
   "metadata": {},
   "outputs": [],
   "source": []
  },
  {
   "cell_type": "code",
   "execution_count": null,
   "id": "89783df3-9dd4-4976-b9dd-7c1dbbb229b3",
   "metadata": {},
   "outputs": [],
   "source": []
  },
  {
   "cell_type": "code",
   "execution_count": null,
   "id": "04839a27-950a-47d3-821f-c1085e7ab6b7",
   "metadata": {},
   "outputs": [],
   "source": []
  },
  {
   "cell_type": "code",
   "execution_count": null,
   "id": "25c218ae-4c7b-4e08-98fe-633af35b9731",
   "metadata": {},
   "outputs": [],
   "source": []
  },
  {
   "cell_type": "code",
   "execution_count": null,
   "id": "828ab609-5efb-4702-ad6b-a2671d4ab82e",
   "metadata": {},
   "outputs": [],
   "source": []
  },
  {
   "cell_type": "code",
   "execution_count": null,
   "id": "5dc32d0c-8e9b-4c67-b511-01ca6cb887b7",
   "metadata": {},
   "outputs": [],
   "source": []
  },
  {
   "cell_type": "code",
   "execution_count": null,
   "id": "680b8615-2e21-4ad4-b638-6ffc990390e9",
   "metadata": {},
   "outputs": [],
   "source": []
  },
  {
   "cell_type": "code",
   "execution_count": null,
   "id": "66feeff2-8825-489b-9398-cfbf23c170fe",
   "metadata": {},
   "outputs": [],
   "source": []
  },
  {
   "cell_type": "code",
   "execution_count": null,
   "id": "e2ddbbaf-8a70-43f7-affb-216163716d56",
   "metadata": {},
   "outputs": [],
   "source": []
  },
  {
   "cell_type": "code",
   "execution_count": null,
   "id": "b35a11cd-c695-465d-b6b8-f746aeabba66",
   "metadata": {},
   "outputs": [],
   "source": []
  },
  {
   "cell_type": "code",
   "execution_count": null,
   "id": "31fd9f90-3d2f-445b-b649-d9aa36f9442c",
   "metadata": {},
   "outputs": [],
   "source": []
  },
  {
   "cell_type": "code",
   "execution_count": null,
   "id": "9557e19e-618f-484e-bfb9-dab56b6b708c",
   "metadata": {},
   "outputs": [],
   "source": []
  },
  {
   "cell_type": "markdown",
   "id": "7d0479ed-6ae8-42cd-9ee6-299fd3b2884e",
   "metadata": {},
   "source": [
    "Covert a iteger to a floatig-poit umber.\n",
    "$ Covert a float to a iteger.\n",
    "2 Covert a iteger to a %trig.\n",
    "C Covert a li%t to a tuple.\n",
    "I Covert a tuple to a li%t.\n",
    "\n",
    "^ Covert a o-zero umber to boolea.\n",
    "\n",
    "Data Science With Generative AI Course\n",
    "\n",
    " Covert a decimal umber to biary."
   ]
  },
  {
   "cell_type": "code",
   "execution_count": 1,
   "id": "4a668b43-cdae-475e-9ba4-2209ba3489b1",
   "metadata": {},
   "outputs": [],
   "source": [
    "##   Covert a float to a iteger."
   ]
  },
  {
   "cell_type": "code",
   "execution_count": 2,
   "id": "f9c9a1b4-8964-4a66-8b68-83a9f6aff708",
   "metadata": {},
   "outputs": [],
   "source": [
    "a = 45.4\n",
    "b = int(a)"
   ]
  },
  {
   "cell_type": "code",
   "execution_count": 5,
   "id": "f350e982-04a9-4c0d-a971-d08cbfbf3c9f",
   "metadata": {},
   "outputs": [
    {
     "data": {
      "text/plain": [
       "45"
      ]
     },
     "execution_count": 5,
     "metadata": {},
     "output_type": "execute_result"
    }
   ],
   "source": [
    "b"
   ]
  },
  {
   "cell_type": "code",
   "execution_count": 6,
   "id": "0aa24f4a-8aae-44cb-98fd-e3c04d8531db",
   "metadata": {},
   "outputs": [
    {
     "data": {
      "text/plain": [
       "int"
      ]
     },
     "execution_count": 6,
     "metadata": {},
     "output_type": "execute_result"
    }
   ],
   "source": [
    "type(b)"
   ]
  },
  {
   "cell_type": "code",
   "execution_count": null,
   "id": "4a334f30-9fdd-4724-90c3-6c26a11a6544",
   "metadata": {},
   "outputs": [],
   "source": [
    "## Covert a integer to a string"
   ]
  },
  {
   "cell_type": "code",
   "execution_count": 1,
   "id": "90ae5a26-f442-460a-8a29-f92e395948ca",
   "metadata": {},
   "outputs": [],
   "source": [
    "a = \"r\"\n",
    "b = str(a)"
   ]
  },
  {
   "cell_type": "code",
   "execution_count": 2,
   "id": "eb5467a4-0368-48f2-a5ef-0b9b6f3faada",
   "metadata": {},
   "outputs": [
    {
     "data": {
      "text/plain": [
       "'r'"
      ]
     },
     "execution_count": 2,
     "metadata": {},
     "output_type": "execute_result"
    }
   ],
   "source": [
    "b"
   ]
  },
  {
   "cell_type": "code",
   "execution_count": 3,
   "id": "ba7fdda3-70dd-4825-94c3-a22bbf4c3992",
   "metadata": {},
   "outputs": [
    {
     "data": {
      "text/plain": [
       "str"
      ]
     },
     "execution_count": 3,
     "metadata": {},
     "output_type": "execute_result"
    }
   ],
   "source": [
    "type(b)"
   ]
  },
  {
   "cell_type": "code",
   "execution_count": null,
   "id": "c7626da5-3f98-4367-a0d3-1b8c24c523b0",
   "metadata": {},
   "outputs": [],
   "source": [
    "## Covert a list to a tuple."
   ]
  },
  {
   "cell_type": "code",
   "execution_count": 4,
   "id": "33bca77c-0cd4-4c84-915c-7077d3057b04",
   "metadata": {},
   "outputs": [],
   "source": [
    "lst = [1,2,\"atul\",\"233\"]\n",
    "a = tuple(lst)"
   ]
  },
  {
   "cell_type": "code",
   "execution_count": 5,
   "id": "ec721dac-a473-4d77-8b7a-35b09f496d57",
   "metadata": {},
   "outputs": [
    {
     "data": {
      "text/plain": [
       "(1, 2, 'atul', '233')"
      ]
     },
     "execution_count": 5,
     "metadata": {},
     "output_type": "execute_result"
    }
   ],
   "source": [
    "a"
   ]
  },
  {
   "cell_type": "code",
   "execution_count": 6,
   "id": "2838d504-f54d-452b-b53c-819c914a2a07",
   "metadata": {},
   "outputs": [
    {
     "data": {
      "text/plain": [
       "tuple"
      ]
     },
     "execution_count": 6,
     "metadata": {},
     "output_type": "execute_result"
    }
   ],
   "source": [
    "type(a)"
   ]
  },
  {
   "cell_type": "code",
   "execution_count": null,
   "id": "d89303aa-0968-4275-ac56-c31bcc43ae17",
   "metadata": {},
   "outputs": [],
   "source": [
    "## Covert a tuple to a list."
   ]
  },
  {
   "cell_type": "code",
   "execution_count": 7,
   "id": "aca5db2d-0ec2-4171-b544-d52e611b23f9",
   "metadata": {},
   "outputs": [],
   "source": [
    "tup = (1,2,4,\"atul\")\n",
    "m = list(tup)"
   ]
  },
  {
   "cell_type": "code",
   "execution_count": 8,
   "id": "0a3c3489-f1a2-4f26-bf24-3f741de8f05a",
   "metadata": {},
   "outputs": [
    {
     "data": {
      "text/plain": [
       "[1, 2, 4, 'atul']"
      ]
     },
     "execution_count": 8,
     "metadata": {},
     "output_type": "execute_result"
    }
   ],
   "source": [
    "m"
   ]
  },
  {
   "cell_type": "code",
   "execution_count": 9,
   "id": "a4a67372-09d6-4e32-bbd3-04a0a021b7da",
   "metadata": {},
   "outputs": [
    {
     "data": {
      "text/plain": [
       "list"
      ]
     },
     "execution_count": 9,
     "metadata": {},
     "output_type": "execute_result"
    }
   ],
   "source": [
    "type(m)"
   ]
  },
  {
   "cell_type": "code",
   "execution_count": null,
   "id": "945dec59-3677-4d62-9358-8b3b16f723cf",
   "metadata": {},
   "outputs": [],
   "source": [
    "## Covert a decimal umber to binary."
   ]
  },
  {
   "cell_type": "code",
   "execution_count": 10,
   "id": "52eeb50c-2607-4c6c-9fce-6f7de595ad32",
   "metadata": {},
   "outputs": [
    {
     "name": "stdout",
     "output_type": "stream",
     "text": [
      "0b1011\n"
     ]
    }
   ],
   "source": [
    "a = 11\n",
    "b = bin(a)\n",
    "print(b)"
   ]
  },
  {
   "cell_type": "code",
   "execution_count": null,
   "id": "b4c0d5e1-4fcb-476f-8cc4-22ac85ae4211",
   "metadata": {},
   "outputs": [],
   "source": [
    "## Covert a non-zero number to boolea."
   ]
  },
  {
   "cell_type": "code",
   "execution_count": 11,
   "id": "27f2a007-d745-421f-8798-1979e6d1da30",
   "metadata": {},
   "outputs": [],
   "source": [
    "num = 22\n",
    "j = bool(num)"
   ]
  },
  {
   "cell_type": "code",
   "execution_count": 12,
   "id": "1c450fc9-594d-45d3-b9e5-97149673e941",
   "metadata": {},
   "outputs": [
    {
     "data": {
      "text/plain": [
       "True"
      ]
     },
     "execution_count": 12,
     "metadata": {},
     "output_type": "execute_result"
    }
   ],
   "source": [
    "j"
   ]
  },
  {
   "cell_type": "code",
   "execution_count": null,
   "id": "4f6684a1-d5a5-4237-ba07-d66b7d61fe76",
   "metadata": {},
   "outputs": [],
   "source": []
  },
  {
   "cell_type": "code",
   "execution_count": null,
   "id": "75e8c9a3-d9bf-469a-9d3b-a6a5a9926777",
   "metadata": {},
   "outputs": [],
   "source": []
  },
  {
   "cell_type": "code",
   "execution_count": null,
   "id": "3f3b2ac0-b341-48bd-a27d-ca4ab87a106a",
   "metadata": {},
   "outputs": [],
   "source": []
  },
  {
   "cell_type": "code",
   "execution_count": null,
   "id": "95bbc6ef-682a-4f64-95b1-cecc7179c3ac",
   "metadata": {},
   "outputs": [],
   "source": []
  },
  {
   "cell_type": "code",
   "execution_count": null,
   "id": "e03bcfc4-cdf9-4be3-b315-899c637e8205",
   "metadata": {},
   "outputs": [],
   "source": []
  },
  {
   "cell_type": "code",
   "execution_count": null,
   "id": "7d238576-38f5-4201-8c7c-394e6a1d1efe",
   "metadata": {},
   "outputs": [],
   "source": []
  },
  {
   "cell_type": "code",
   "execution_count": null,
   "id": "a0650413-bcd2-4275-a302-98fd7edb1eae",
   "metadata": {},
   "outputs": [],
   "source": []
  },
  {
   "cell_type": "code",
   "execution_count": null,
   "id": "0a8a26ae-f06a-48fa-9c3c-05df6cc632ba",
   "metadata": {},
   "outputs": [],
   "source": []
  },
  {
   "cell_type": "code",
   "execution_count": null,
   "id": "0b0f5c33-eff0-42b7-a19f-f1b43ae93728",
   "metadata": {},
   "outputs": [],
   "source": []
  },
  {
   "cell_type": "code",
   "execution_count": null,
   "id": "7c198140-18a4-4cac-a180-7a6b033849ec",
   "metadata": {},
   "outputs": [],
   "source": []
  },
  {
   "cell_type": "code",
   "execution_count": null,
   "id": "a62be356-3c0b-464f-a462-62965f61f8f2",
   "metadata": {},
   "outputs": [],
   "source": []
  },
  {
   "cell_type": "code",
   "execution_count": null,
   "id": "bf26023b-f71e-4990-9845-f9d7add220b6",
   "metadata": {},
   "outputs": [],
   "source": []
  },
  {
   "cell_type": "code",
   "execution_count": null,
   "id": "d4a70091-a6d5-4d3f-8038-ec623fbccc25",
   "metadata": {},
   "outputs": [],
   "source": []
  },
  {
   "cell_type": "code",
   "execution_count": null,
   "id": "2f499214-e79b-4752-baf2-184e14d1dfac",
   "metadata": {},
   "outputs": [],
   "source": []
  },
  {
   "cell_type": "code",
   "execution_count": null,
   "id": "e7c2ffab-abb0-4676-af3c-e50a080b061d",
   "metadata": {},
   "outputs": [],
   "source": []
  },
  {
   "cell_type": "code",
   "execution_count": null,
   "id": "0cbc7394-6488-4a96-aa2e-63d0b7f94bf3",
   "metadata": {},
   "outputs": [],
   "source": []
  },
  {
   "cell_type": "code",
   "execution_count": null,
   "id": "e7396f51-97b5-45c1-9d62-b5463af22331",
   "metadata": {},
   "outputs": [],
   "source": []
  },
  {
   "cell_type": "code",
   "execution_count": null,
   "id": "f3384127-7f70-43d7-8b6b-0953bd3de14d",
   "metadata": {},
   "outputs": [],
   "source": []
  },
  {
   "cell_type": "code",
   "execution_count": null,
   "id": "6d0ef68e-913e-42da-9969-9c20be692882",
   "metadata": {},
   "outputs": [],
   "source": []
  },
  {
   "cell_type": "code",
   "execution_count": null,
   "id": "d29ea34d-c732-41d2-91aa-ac07e7a8ba53",
   "metadata": {},
   "outputs": [],
   "source": []
  },
  {
   "cell_type": "code",
   "execution_count": null,
   "id": "ff437432-200a-4842-81ab-63f0b951a2fc",
   "metadata": {},
   "outputs": [],
   "source": []
  },
  {
   "cell_type": "code",
   "execution_count": null,
   "id": "522e158d-8dac-431e-95e2-4fb9747e8354",
   "metadata": {},
   "outputs": [],
   "source": []
  },
  {
   "cell_type": "code",
   "execution_count": null,
   "id": "021bf28a-b958-46f9-af86-574d090043eb",
   "metadata": {},
   "outputs": [],
   "source": []
  },
  {
   "cell_type": "code",
   "execution_count": null,
   "id": "12e0cb13-1ba7-4243-910b-f23c05fce7f9",
   "metadata": {},
   "outputs": [],
   "source": []
  },
  {
   "cell_type": "code",
   "execution_count": null,
   "id": "7e0f7e75-0c66-4fd2-8968-1ffae25d166b",
   "metadata": {},
   "outputs": [],
   "source": []
  },
  {
   "cell_type": "code",
   "execution_count": null,
   "id": "f6dfdcb7-9c4b-4753-9d62-342a6afa8832",
   "metadata": {},
   "outputs": [],
   "source": []
  },
  {
   "cell_type": "code",
   "execution_count": null,
   "id": "5f6ff166-15e0-490f-9048-43a7c9e7c3c2",
   "metadata": {},
   "outputs": [],
   "source": []
  }
 ],
 "metadata": {
  "kernelspec": {
   "display_name": "Python 3 (ipykernel)",
   "language": "python",
   "name": "python3"
  },
  "language_info": {
   "codemirror_mode": {
    "name": "ipython",
    "version": 3
   },
   "file_extension": ".py",
   "mimetype": "text/x-python",
   "name": "python",
   "nbconvert_exporter": "python",
   "pygments_lexer": "ipython3",
   "version": "3.10.8"
  }
 },
 "nbformat": 4,
 "nbformat_minor": 5
}
